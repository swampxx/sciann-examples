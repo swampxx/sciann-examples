{
  "nbformat": 4,
  "nbformat_minor": 0,
  "metadata": {
    "colab": {
      "name": "sciann_poisson_L_shape.ipynb",
      "provenance": [],
      "collapsed_sections": [],
      "authorship_tag": "ABX9TyNV9nlhfe3MJC+ZEaoB+4GS",
      "include_colab_link": true
    },
    "kernelspec": {
      "name": "python3",
      "display_name": "Python 3"
    },
    "language_info": {
      "name": "python"
    },
    "accelerator": "GPU"
  },
  "cells": [
    {
      "cell_type": "markdown",
      "metadata": {
        "id": "view-in-github",
        "colab_type": "text"
      },
      "source": [
        "<a href=\"https://colab.research.google.com/github/swampxx/sciann-examples/blob/main/sciann_poisson_L_shape.ipynb\" target=\"_parent\"><img src=\"https://colab.research.google.com/assets/colab-badge.svg\" alt=\"Open In Colab\"/></a>"
      ]
    },
    {
      "cell_type": "code",
      "metadata": {
        "id": "FuJ_7U_8dAhh"
      },
      "source": [
        "# Install sciann\n",
        "%%capture sciann_installation\n",
        "!pip install sciann"
      ],
      "execution_count": null,
      "outputs": []
    },
    {
      "cell_type": "code",
      "metadata": {
        "colab": {
          "base_uri": "https://localhost:8080/"
        },
        "id": "n1qa4cyNUhKG",
        "outputId": "dd6c46cd-c0d8-41ee-c17a-0d934f6a7e17"
      },
      "source": [
        "import numpy as np\n",
        "from matplotlib import cm\n",
        "import matplotlib.pyplot as plt\n",
        "\n",
        "import sciann as sn\n",
        "\n",
        "%matplotlib inline"
      ],
      "execution_count": null,
      "outputs": [
        {
          "output_type": "stream",
          "text": [
            "---------------------- SCIANN 0.6.3.1 ---------------------- \n",
            "For details, check out our review paper and the documentation at: \n",
            " +  \"https://www.sciencedirect.com/science/article/pii/S0045782520307374\", \n",
            " +  \"https://arxiv.org/abs/2005.08803\", \n",
            " +  \"https://www.sciann.com\". \n",
            "\n",
            " Need support or would like to contribute, please join sciann`s slack group: \n",
            " +  \"https://join.slack.com/t/sciann/shared_invite/zt-ne1f5jlx-k_dY8RGo3ZreDXwz0f~CeA\" \n",
            " \n"
          ],
          "name": "stdout"
        }
      ]
    },
    {
      "cell_type": "markdown",
      "metadata": {
        "id": "JKNvJw5KDVC4"
      },
      "source": [
        "In this notebook, we solve the Poisson equation over an L-shaped domain $\\Omega = [-1, 1]^2 \\backslash [0, 1]^2$:\n",
        "\n",
        "$-\\Delta u(x,y) = 1, (x,y) \\in \\Omega$\n",
        "\n",
        "The boundary conditions:\n",
        "\n",
        "$u(x,y) = 0, (x,y) \\in \\partial \\Omega$\n",
        "\n",
        "\n"
      ]
    },
    {
      "cell_type": "code",
      "metadata": {
        "id": "ibIeNKDQUmvb"
      },
      "source": [
        "# Define the L-shape domain\n",
        "\n",
        "x_data_1, y_data_1 = np.meshgrid(\n",
        "    np.linspace(-1, 1, 100), \n",
        "    np.linspace(0, -1, 50)\n",
        ")\n",
        "\n",
        "x_data_2, y_data_2 = np.meshgrid(\n",
        "    np.linspace(-1, 0, 50), \n",
        "    np.linspace(0,  1, 50)\n",
        ")"
      ],
      "execution_count": null,
      "outputs": []
    },
    {
      "cell_type": "code",
      "metadata": {
        "id": "WF7RZQs2XCsf"
      },
      "source": [
        "# Prepare training data\n",
        "\n",
        "x_data = np.concatenate([x_data_1.flatten(), x_data_2.flatten()])\n",
        "y_data = np.concatenate([y_data_1.flatten(), y_data_2.flatten()])"
      ],
      "execution_count": null,
      "outputs": []
    },
    {
      "cell_type": "code",
      "metadata": {
        "id": "XKpE2_N8Xjtl"
      },
      "source": [
        "# Define Input variables x, y\n",
        "\n",
        "x = sn.Variable('x')\n",
        "y = sn.Variable('y')\n",
        "\n",
        "# Define the underlying network\n",
        "u = sn.Functional('u', [x, y], 8*[20], 'tanh')"
      ],
      "execution_count": null,
      "outputs": []
    },
    {
      "cell_type": "code",
      "metadata": {
        "id": "j9Wh7gfYccR9"
      },
      "source": [
        "# The governing equation\n",
        "L1 = -sn.diff(u, x, order=2)- sn.diff(u, y, order=2) -1\n",
        "\n",
        "# Impose boundary conditions\n",
        "TOL = 0.001\n",
        "\n",
        "C1 = (1 - sn.sign(x+1 - TOL))*u\n",
        "C2 = (1 + sn.sign(x-1 + TOL))*u\n",
        "C3 = (1 + sn.sign(y-1 + TOL))*u\n",
        "C4 = (1 - sn.sign(y+1 - TOL))*u\n",
        "C5 = (1 + sn.sign(x + TOL))*(1 + sn.sign(y + TOL))*u"
      ],
      "execution_count": null,
      "outputs": []
    },
    {
      "cell_type": "code",
      "metadata": {
        "id": "MWXfCyGTvnKf"
      },
      "source": [
        "# Construct SciANN Model\n",
        "model = sn.SciModel([x, y], [L1, C1, C2, C3, C4, C5])"
      ],
      "execution_count": null,
      "outputs": []
    },
    {
      "cell_type": "code",
      "metadata": {
        "id": "XxedXkImwhtd"
      },
      "source": [
        "# Training\n",
        "history = model.train([x_data, y_data], 6*['zeros'], learning_rate=0.002, epochs=5000, batch_size=256, verbose=2)"
      ],
      "execution_count": null,
      "outputs": []
    },
    {
      "cell_type": "code",
      "metadata": {
        "id": "rTukSGBQwtey"
      },
      "source": [
        "# Genereate predictions\n",
        "u_pred = u.eval(model, [x_data, y_data])"
      ],
      "execution_count": null,
      "outputs": []
    },
    {
      "cell_type": "code",
      "metadata": {
        "colab": {
          "base_uri": "https://localhost:8080/",
          "height": 295
        },
        "id": "y-4OGzULWDlM",
        "outputId": "7bc52898-36b2-4535-8827-2c9593a1b3ae"
      },
      "source": [
        "# Plotting\n",
        "\n",
        "# fill empty places with 0s\n",
        "empty_points_x, empty_points_y = np.meshgrid(\n",
        "    np.linspace(0, 1, 50), \n",
        "    np.linspace(0, 1, 50)\n",
        ")\n",
        "\n",
        "empty_points_x = empty_points_x.flatten()\n",
        "empty_points_y = empty_points_y.flatten()\n",
        "\n",
        "empty_u = np.zeros(50*50)\n",
        "\n",
        "# prepare pre\n",
        "plot_u_pred = u_pred.copy()\n",
        "plot_u_pred = np.concatenate([np.where(plot_u_pred>=0, plot_u_pred, 0), empty_u])\n",
        "\n",
        "plot_x = np.concatenate([x_data, empty_points_x])\n",
        "plot_y = np.concatenate([y_data, empty_points_y])\n",
        "\n",
        "plt.title('PINN Solution')\n",
        "plt.xlabel('x')\n",
        "plt.ylabel('y')\n",
        "plt.tricontourf(plot_x, plot_y, plot_u_pred)\n",
        "plt.colorbar()\n",
        "plt.show()"
      ],
      "execution_count": null,
      "outputs": [
        {
          "output_type": "display_data",
          "data": {
            "image/png": "[encoded data removed]",
            "text/plain": [
              "<Figure size 432x288 with 2 Axes>"
            ]
          },
          "metadata": {
            "tags": [],
            "needs_background": "light"
          }
        }
      ]
    },
    {
      "cell_type": "code",
      "metadata": {
        "id": "PqkiDt5IRTsH"
      },
      "source": [
        ""
      ],
      "execution_count": null,
      "outputs": []
    }
  ]
}