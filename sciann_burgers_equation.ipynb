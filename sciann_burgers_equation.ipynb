{
  "nbformat": 4,
  "nbformat_minor": 0,
  "metadata": {
    "colab": {
      "name": "sciann_burgers_equation.ipynb",
      "provenance": [],
      "collapsed_sections": [],
      "authorship_tag": "ABX9TyM7OwvAu2Fqc5j3bySxyGKE",
      "include_colab_link": true
    },
    "kernelspec": {
      "name": "python3",
      "display_name": "Python 3"
    },
    "language_info": {
      "name": "python"
    }
  },
  "cells": [
    {
      "cell_type": "markdown",
      "metadata": {
        "id": "view-in-github",
        "colab_type": "text"
      },
      "source": [
        "<a href=\"https://colab.research.google.com/github/swampxx/sciann-examples/blob/main/sciann_burgers_equation.ipynb\" target=\"_parent\"><img src=\"https://colab.research.google.com/assets/colab-badge.svg\" alt=\"Open In Colab\"/></a>"
      ]
    },
    {
      "cell_type": "code",
      "metadata": {
        "id": "CGD-ihQ5ELZv"
      },
      "source": [
        "# Install sciann\n",
        "%%capture sciann_installation\n",
        "!pip install sciann"
      ],
      "execution_count": null,
      "outputs": []
    },
    {
      "cell_type": "code",
      "metadata": {
        "colab": {
          "base_uri": "https://localhost:8080/"
        },
        "id": "yBncc3uWRP5m",
        "outputId": "3eefb89a-a350-4653-a2c8-a4243a534b83"
      },
      "source": [
        "import numpy as np\n",
        "import matplotlib.pyplot as plt\n",
        "\n",
        "import sciann as sn\n",
        "\n",
        "%matplotlib inline"
      ],
      "execution_count": null,
      "outputs": [
        {
          "output_type": "stream",
          "text": [
            "---------------------- SCIANN 0.6.3.1 ---------------------- \n",
            "For details, check out our review paper and the documentation at: \n",
            " +  \"https://www.sciencedirect.com/science/article/pii/S0045782520307374\", \n",
            " +  \"https://arxiv.org/abs/2005.08803\", \n",
            " +  \"https://www.sciann.com\". \n",
            "\n",
            " Need support or would like to contribute, please join sciann`s slack group: \n",
            " +  \"https://join.slack.com/t/sciann/shared_invite/zt-ne1f5jlx-k_dY8RGo3ZreDXwz0f~CeA\" \n",
            " \n"
          ],
          "name": "stdout"
        }
      ]
    },
    {
      "cell_type": "markdown",
      "metadata": {
        "id": "5LOhU_gKREGK"
      },
      "source": [
        "We reproduce the Burgers Equation example which is illustraded in the SciANN paper.\n",
        "\n",
        "Burgers Equation:\n",
        "\n",
        "$u_{,t} + u u_{,x} - (0.01/\\pi)u_{,xx} = 0, t \\in [0,1], x \\in [-1,1]$\n",
        "\n",
        "initial and boundary conditions $u(t=0, x)=-\\sin (\\pi x)$ and $u(t, x= \\pm 1) = 0$, respectively. "
      ]
    },
    {
      "cell_type": "code",
      "metadata": {
        "id": "cflo-SAnRao8"
      },
      "source": [
        "# In this cell, we define the input variables (x, t)\n",
        "# and the solution variable u\n",
        "\n",
        "x = sn.Variable('x')\n",
        "t = sn.Variable('t')\n",
        "u = sn.Functional('u', [t, x], 8*[20], 'tanh')"
      ],
      "execution_count": null,
      "outputs": []
    },
    {
      "cell_type": "code",
      "metadata": {
        "id": "O2scCAfLRbUT"
      },
      "source": [
        "# the governing equation\n",
        "L1 = sn.diff(u, t) + u * sn.diff(u, x) - (0.01 / np.pi) * sn.diff(u, x, order=2)\n",
        "\n",
        "# initial and boundary conditions should be defined as continuous fucntions\n",
        "TOL = 0.001  # tolerance value\n",
        "\n",
        "# note that C1 is zero at all sampling points except t < 0\n",
        "# if the result of the solution variable u is not zero,\n",
        "# we penalize it with the loss term\n",
        "\n",
        "C1 = (1-sn.sign(t - TOL)) * (u + sn.sin(np.pi*x))\n",
        "C2 = (1-sn.sign(x - (-1+TOL))) * (u)\n",
        "C3 = (1+sn.sign(x - ( 1-TOL))) * (u)"
      ],
      "execution_count": null,
      "outputs": []
    },
    {
      "cell_type": "code",
      "metadata": {
        "id": "dI3ELjxnSpsI"
      },
      "source": [
        "# define SciANN model\n",
        "m = sn.SciModel([x, t], [L1, C1, C2, C3])"
      ],
      "execution_count": null,
      "outputs": []
    },
    {
      "cell_type": "code",
      "metadata": {
        "id": "ByNYdnkoSwjp"
      },
      "source": [
        "# generate input data\n",
        "x_data, t_data = np.meshgrid(\n",
        "    np.linspace(-1, 1, 100), \n",
        "    np.linspace(0, 1, 100)\n",
        ")"
      ],
      "execution_count": null,
      "outputs": []
    },
    {
      "cell_type": "code",
      "metadata": {
        "id": "F4GhoMnqSy2V"
      },
      "source": [
        "# training...\n",
        "h = m.train([x_data, t_data], 4*['zero'], batch_size=256, epochs=10000, verbose=2)"
      ],
      "execution_count": null,
      "outputs": []
    },
    {
      "cell_type": "code",
      "metadata": {
        "id": "zgr8UFY-S0mg"
      },
      "source": [
        "# test data\n",
        "x_test, t_test = np.meshgrid(\n",
        "    np.linspace(-1, 1, 200), \n",
        "    np.linspace(0, 1, 200)\n",
        ")\n",
        "\n",
        "# generate predictions for the test data\n",
        "u_pred = u.eval(m, [x_test, t_test])"
      ],
      "execution_count": null,
      "outputs": []
    },
    {
      "cell_type": "code",
      "metadata": {
        "id": "a5RlDL8TS3KS",
        "colab": {
          "base_uri": "https://localhost:8080/"
        },
        "outputId": "3935c527-a2bc-45ad-be39-0d20431c58bf"
      },
      "source": [
        "# visualization\n",
        "\n",
        "fig = plt.figure(figsize=(3, 4))\n",
        "plt.pcolor(x_test, t_test, u_pred, cmap='seismic')\n",
        "plt.xlabel('x')\n",
        "plt.ylabel('t')\n",
        "plt.colorbar()"
      ],
      "execution_count": null,
      "outputs": [
        {
          "output_type": "execute_result",
          "data": {
            "text/plain": [
              "<matplotlib.colorbar.Colorbar at 0x7f99b9804510>"
            ]
          },
          "metadata": {
            "tags": []
          },
          "execution_count": 9
        },
        {
          "output_type": "display_data",
          "data": {
            "image/png": "[encoded data removed]",
            "text/plain": [
              "<Figure size 216x288 with 2 Axes>"
            ]
          },
          "metadata": {
            "tags": [],
            "needs_background": "light"
          }
        }
      ]
    }
  ]
}