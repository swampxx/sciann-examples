{
  "nbformat": 4,
  "nbformat_minor": 0,
  "metadata": {
    "colab": {
      "name": "sciann_1d_curve_fitting.ipynb",
      "provenance": [],
      "collapsed_sections": [],
      "authorship_tag": "ABX9TyOj4Nntp0Fz7gkPjnGzYOs2",
      "include_colab_link": true
    },
    "kernelspec": {
      "name": "python3",
      "display_name": "Python 3"
    },
    "language_info": {
      "name": "python"
    }
  },
  "cells": [
    {
      "cell_type": "markdown",
      "metadata": {
        "id": "view-in-github",
        "colab_type": "text"
      },
      "source": [
        "<a href=\"https://colab.research.google.com/github/swampxx/sciann-examples/blob/main/sciann_1d_curve_fitting.ipynb\" target=\"_parent\"><img src=\"https://colab.research.google.com/assets/colab-badge.svg\" alt=\"Open In Colab\"/></a>"
      ]
    },
    {
      "cell_type": "code",
      "metadata": {
        "id": "-pAhZD4gtVSs"
      },
      "source": [
        "# Install sciann\n",
        "%%capture sciann_installation\n",
        "!pip install sciann"
      ],
      "execution_count": null,
      "outputs": []
    },
    {
      "cell_type": "code",
      "metadata": {
        "colab": {
          "base_uri": "https://localhost:8080/"
        },
        "id": "BiJCKvRRtdiQ",
        "outputId": "42230e6b-3bd7-416e-fe61-b3ddc5d029de"
      },
      "source": [
        "# Module imports\n",
        "\n",
        "import numpy as np\n",
        "import matplotlib.pyplot as plt\n",
        "\n",
        "import sciann as sn\n",
        "\n",
        "%matplotlib inline"
      ],
      "execution_count": null,
      "outputs": [
        {
          "output_type": "stream",
          "text": [
            "---------------------- SCIANN 0.6.3.1 ---------------------- \n",
            "For details, check out our review paper and the documentation at: \n",
            " +  \"https://www.sciencedirect.com/science/article/pii/S0045782520307374\", \n",
            " +  \"https://arxiv.org/abs/2005.08803\", \n",
            " +  \"https://www.sciann.com\". \n",
            "\n",
            " Need support or would like to contribute, please join sciann`s slack group: \n",
            " +  \"https://join.slack.com/t/sciann/shared_invite/zt-ne1f5jlx-k_dY8RGo3ZreDXwz0f~CeA\" \n",
            " \n"
          ],
          "name": "stdout"
        }
      ]
    },
    {
      "cell_type": "markdown",
      "metadata": {
        "id": "fyixY8xYuDLm"
      },
      "source": [
        " Consider $f(x)=sin(x)$ function over the domain $x\\rightarrow [0, 2\\pi]$. \n",
        " \n",
        " We can generate a set of discrete data by using $f$ to conduct simple experiment on SciANN."
      ]
    },
    {
      "cell_type": "code",
      "metadata": {
        "colab": {
          "base_uri": "https://localhost:8080/",
          "height": 304
        },
        "id": "uE2pKMxCtwYc",
        "outputId": "5453cb01-57d2-40b6-cf85-0661668a9e9c"
      },
      "source": [
        "x_train = np.linspace(0, np.pi*2, 5000)\n",
        "y_train = np.sin(x_train)\n",
        "\n",
        "# plot the data\n",
        "plt.title('Generated Data')\n",
        "plt.xlabel('$x$')\n",
        "plt.ylabel('$y$')\n",
        "xx = [idx*np.pi/4 for idx in range(9)]\n",
        "xx_t = ['$0$', '$\\\\frac{\\\\pi}{4}$', '$\\\\frac{\\\\pi}{2}$', '$\\\\frac{3\\\\pi}{4}$', '$\\\\pi$', \n",
        "        '$\\\\frac{5\\\\pi}{4}$', '$\\\\frac{3\\\\pi}{2}$', '$\\\\frac{7\\\\pi}{4}$', '$2\\\\pi$']\n",
        "plt.xticks(xx, xx_t)\n",
        "plt.plot(x_train, y_train, label='$y = \\sin (x)$')\n",
        "plt.legend(loc=\"upper left\")\n",
        "\n",
        "plt.show()"
      ],
      "execution_count": null,
      "outputs": [
        {
          "output_type": "display_data",
          "data": {
            "image/png": "[encoded data removed]",
            "text/plain": [
              "<Figure size 432x288 with 1 Axes>"
            ]
          },
          "metadata": {
            "tags": [],
            "needs_background": "light"
          }
        }
      ]
    },
    {
      "cell_type": "markdown",
      "metadata": {
        "id": "3nXofjH1xR7h"
      },
      "source": [
        "Now, we can start to construct our model by starting.\n",
        "\n",
        "We have input $x$ and output ${f}(x)= y =\\sin(x)$. \n",
        "We use _Variable_ class to define our input layer and _Functional_ class to create the network."
      ]
    },
    {
      "cell_type": "code",
      "metadata": {
        "id": "7SIxcLDnvMmm"
      },
      "source": [
        "# Input\n",
        "x = sn.Variable('x')\n",
        "\n",
        "# Network\n",
        "f_hat = sn.Functional(\n",
        "    'f_hat',\n",
        "    variables=x,\n",
        "    hidden_layers=[8, 16, 8],\n",
        "    activation='tanh'\n",
        ")"
      ],
      "execution_count": null,
      "outputs": []
    },
    {
      "cell_type": "markdown",
      "metadata": {
        "id": "WaD7l5wi1ZAu"
      },
      "source": [
        "We have created our input layer and the underlying network. Now, we need to enforce some constraints. \n",
        "\n",
        "\n",
        "First, we have data constraint. Output of the network $\\hat{f}(x)$ should match with the $\\sin(x)$"
      ]
    },
    {
      "cell_type": "code",
      "metadata": {
        "id": "Lw0bVK0_1Ykn"
      },
      "source": [
        "constraint_data = sn.constraints.Data(f_hat)"
      ],
      "execution_count": null,
      "outputs": []
    },
    {
      "cell_type": "markdown",
      "metadata": {
        "id": "iVmgr8AF590X"
      },
      "source": [
        "Second, we know that second derivative of $\\sin(x)$ is $-\\sin(x)$ and their sum is zero. Therefore, our network $\\hat{f}$ should satisy this condition as well.\n",
        "\n",
        "We can enforce this by using PDE constraint."
      ]
    },
    {
      "cell_type": "code",
      "metadata": {
        "id": "1HkmOI61ynG0"
      },
      "source": [
        "# diff(f, x, order=2) + y should be zero, \n",
        "#     while training zero labels will be used.\n",
        "constraint_pde = sn.constraints.PDE(sn.utils.diff(f_hat, x, order=2) + f_hat)"
      ],
      "execution_count": null,
      "outputs": []
    },
    {
      "cell_type": "markdown",
      "metadata": {
        "id": "Dcj-DgGs8Uwv"
      },
      "source": [
        "SciModel is ready to be constructed!\n",
        "\n",
        "Mean Squared Error is used for loss function.\n",
        "\n",
        "ADAM with default values is used for optimizer. (lr=0.001, beta=(0.9, 0.999))\n",
        "\n",
        "_Limitation: We can not employ weighting for the constraints. It is not supported!_"
      ]
    },
    {
      "cell_type": "code",
      "metadata": {
        "colab": {
          "base_uri": "https://localhost:8080/"
        },
        "id": "tgqUNBTxyoye",
        "outputId": "4f2df840-cf70-4c8f-e354-15d349f55991"
      },
      "source": [
        "model = sn.SciModel(x, [constraint_data, constraint_pde],\n",
        "                    loss_func='mse',\n",
        "                    optimizer='adam',\n",
        "                    plot_to_file='network.png')\n",
        "\n",
        "model.summary()"
      ],
      "execution_count": null,
      "outputs": [
        {
          "output_type": "stream",
          "text": [
            "Model: \"model\"\n",
            "__________________________________________________________________________________________________\n",
            "Layer (type)                    Output Shape         Param #     Connected to                     \n",
            "==================================================================================================\n",
            "x (InputLayer)                  [(None, 1)]          0                                            \n",
            "__________________________________________________________________________________________________\n",
            "D8b (Dense)                     (None, 8)            16          x[0][0]                          \n",
            "__________________________________________________________________________________________________\n",
            "sci_activation (SciActivation)  (None, 8)            0           D8b[0][0]                        \n",
            "__________________________________________________________________________________________________\n",
            "D16b (Dense)                    (None, 16)           144         sci_activation[0][0]             \n",
            "__________________________________________________________________________________________________\n",
            "sci_activation_1 (SciActivation (None, 16)           0           D16b[0][0]                       \n",
            "__________________________________________________________________________________________________\n",
            "D8b_2 (Dense)                   (None, 8)            136         sci_activation_1[0][0]           \n",
            "__________________________________________________________________________________________________\n",
            "sci_activation_2 (SciActivation (None, 8)            0           D8b_2[0][0]                      \n",
            "__________________________________________________________________________________________________\n",
            "f_hat (Field)                   (None, 1)            9           sci_activation_2[0][0]           \n",
            "__________________________________________________________________________________________________\n",
            "Grad2_f_hat_x/ (Lambda)         (None, 1)            0           f_hat[0][0]                      \n",
            "__________________________________________________________________________________________________\n",
            "add (Lambda)                    (None, 1)            0           Grad2_f_hat_x/[0][0]             \n",
            "                                                                 f_hat[0][0]                      \n",
            "==================================================================================================\n",
            "Total params: 305\n",
            "Trainable params: 305\n",
            "Non-trainable params: 0\n",
            "__________________________________________________________________________________________________\n"
          ],
          "name": "stdout"
        }
      ]
    },
    {
      "cell_type": "markdown",
      "metadata": {
        "id": "7vaepfva9YnU"
      },
      "source": [
        "SciModel is constructed and it should be trained with the data we created in the beginning and the PDE constraint on network $f$."
      ]
    },
    {
      "cell_type": "code",
      "metadata": {
        "colab": {
          "base_uri": "https://localhost:8080/"
        },
        "id": "zbqUBLaA85C9",
        "outputId": "08e797a6-c658-4e98-87a2-7fa0b6124f64"
      },
      "source": [
        "training_history = model.train(x_train,             # input x\n",
        "                               [y_train, 'zeros'],  # y_train for data constraint, zeros for PDE constraint\n",
        "                               batch_size = 32,\n",
        "                               epochs=100)"
      ],
      "execution_count": null,
      "outputs": [
        {
          "output_type": "stream",
          "text": [
            "\n",
            "Total samples: 5000 \n",
            "Batch size: 32 \n",
            "Total batches: 157 \n",
            "\n",
            "Epoch 1/100\n",
            "157/157 [==============================] - 1s 2ms/step - batch: 78.0000 - size: 31.8471 - loss: 0.3204 - f_hat_loss: 0.2708 - add_loss: 0.0496 - lr: 0.0010 - time: 1.2460\n",
            "Epoch 2/100\n",
            "157/157 [==============================] - 0s 2ms/step - batch: 78.0000 - size: 31.8471 - loss: 0.2052 - f_hat_loss: 0.1318 - add_loss: 0.0733 - lr: 0.0010 - time: 0.4122\n",
            "Epoch 3/100\n",
            "157/157 [==============================] - 0s 2ms/step - batch: 78.0000 - size: 31.8471 - loss: 0.1714 - f_hat_loss: 0.0964 - add_loss: 0.0750 - lr: 0.0010 - time: 0.4234\n",
            "Epoch 4/100\n",
            "157/157 [==============================] - 0s 2ms/step - batch: 78.0000 - size: 31.8471 - loss: 0.1598 - f_hat_loss: 0.0841 - add_loss: 0.0758 - lr: 0.0010 - time: 0.4317\n",
            "Epoch 5/100\n",
            "157/157 [==============================] - 0s 2ms/step - batch: 78.0000 - size: 31.8471 - loss: 0.1488 - f_hat_loss: 0.0763 - add_loss: 0.0725 - lr: 0.0010 - time: 0.4100\n",
            "Epoch 6/100\n",
            "157/157 [==============================] - 0s 2ms/step - batch: 78.0000 - size: 31.8471 - loss: 0.1348 - f_hat_loss: 0.0674 - add_loss: 0.0674 - lr: 0.0010 - time: 0.4190\n",
            "Epoch 7/100\n",
            "157/157 [==============================] - 0s 2ms/step - batch: 78.0000 - size: 31.8471 - loss: 0.1117 - f_hat_loss: 0.0530 - add_loss: 0.0587 - lr: 0.0010 - time: 0.4323\n",
            "Epoch 8/100\n",
            "157/157 [==============================] - 0s 2ms/step - batch: 78.0000 - size: 31.8471 - loss: 0.0755 - f_hat_loss: 0.0332 - add_loss: 0.0423 - lr: 0.0010 - time: 0.4251\n",
            "Epoch 9/100\n",
            "157/157 [==============================] - 0s 2ms/step - batch: 78.0000 - size: 31.8471 - loss: 0.0305 - f_hat_loss: 0.0132 - add_loss: 0.0173 - lr: 0.0010 - time: 0.4181\n",
            "Epoch 10/100\n",
            "157/157 [==============================] - 0s 2ms/step - batch: 78.0000 - size: 31.8471 - loss: 0.0145 - f_hat_loss: 0.0053 - add_loss: 0.0092 - lr: 0.0010 - time: 0.4593\n",
            "Epoch 11/100\n",
            "157/157 [==============================] - 0s 2ms/step - batch: 78.0000 - size: 31.8471 - loss: 0.0086 - f_hat_loss: 0.0024 - add_loss: 0.0062 - lr: 0.0010 - time: 0.4545\n",
            "Epoch 12/100\n",
            "157/157 [==============================] - 0s 2ms/step - batch: 78.0000 - size: 31.8471 - loss: 0.0056 - f_hat_loss: 0.0012 - add_loss: 0.0043 - lr: 0.0010 - time: 0.4150\n",
            "Epoch 13/100\n",
            "157/157 [==============================] - 0s 2ms/step - batch: 78.0000 - size: 31.8471 - loss: 0.0037 - f_hat_loss: 6.4455e-04 - add_loss: 0.0030 - lr: 0.0010 - time: 0.4281\n",
            "Epoch 14/100\n",
            "157/157 [==============================] - 0s 2ms/step - batch: 78.0000 - size: 31.8471 - loss: 0.0026 - f_hat_loss: 3.7759e-04 - add_loss: 0.0022 - lr: 0.0010 - time: 0.4349\n",
            "Epoch 15/100\n",
            "157/157 [==============================] - 0s 2ms/step - batch: 78.0000 - size: 31.8471 - loss: 0.0018 - f_hat_loss: 2.0237e-04 - add_loss: 0.0016 - lr: 0.0010 - time: 0.4366\n",
            "Epoch 16/100\n",
            "157/157 [==============================] - 0s 2ms/step - batch: 78.0000 - size: 31.8471 - loss: 0.0013 - f_hat_loss: 1.4388e-04 - add_loss: 0.0012 - lr: 0.0010 - time: 0.4253\n",
            "Epoch 17/100\n",
            "157/157 [==============================] - 0s 2ms/step - batch: 78.0000 - size: 31.8471 - loss: 9.5612e-04 - f_hat_loss: 8.6518e-05 - add_loss: 8.6959e-04 - lr: 0.0010 - time: 0.3979\n",
            "Epoch 18/100\n",
            "157/157 [==============================] - 0s 2ms/step - batch: 78.0000 - size: 31.8471 - loss: 7.1674e-04 - f_hat_loss: 5.9451e-05 - add_loss: 6.5728e-04 - lr: 0.0010 - time: 0.4095\n",
            "Epoch 19/100\n",
            "157/157 [==============================] - 0s 2ms/step - batch: 78.0000 - size: 31.8471 - loss: 5.4710e-04 - f_hat_loss: 4.0599e-05 - add_loss: 5.0650e-04 - lr: 0.0010 - time: 0.4323\n",
            "Epoch 20/100\n",
            "157/157 [==============================] - 0s 2ms/step - batch: 78.0000 - size: 31.8471 - loss: 4.3296e-04 - f_hat_loss: 3.0869e-05 - add_loss: 4.0209e-04 - lr: 0.0010 - time: 0.4168\n",
            "Epoch 21/100\n",
            "157/157 [==============================] - 0s 2ms/step - batch: 78.0000 - size: 31.8471 - loss: 3.4154e-04 - f_hat_loss: 2.5910e-05 - add_loss: 3.1562e-04 - lr: 0.0010 - time: 0.4249\n",
            "Epoch 22/100\n",
            "157/157 [==============================] - 0s 2ms/step - batch: 78.0000 - size: 31.8471 - loss: 2.8457e-04 - f_hat_loss: 2.0651e-05 - add_loss: 2.6392e-04 - lr: 0.0010 - time: 0.4520\n",
            "Epoch 23/100\n",
            "157/157 [==============================] - 0s 2ms/step - batch: 78.0000 - size: 31.8471 - loss: 2.3014e-04 - f_hat_loss: 1.7938e-05 - add_loss: 2.1222e-04 - lr: 0.0010 - time: 0.4186\n",
            "Epoch 24/100\n",
            "157/157 [==============================] - 0s 2ms/step - batch: 78.0000 - size: 31.8471 - loss: 1.9195e-04 - f_hat_loss: 1.3978e-05 - add_loss: 1.7797e-04 - lr: 0.0010 - time: 0.4280\n",
            "Epoch 25/100\n",
            "157/157 [==============================] - 0s 2ms/step - batch: 78.0000 - size: 31.8471 - loss: 1.6307e-04 - f_hat_loss: 1.2929e-05 - add_loss: 1.5014e-04 - lr: 0.0010 - time: 0.4238\n",
            "Epoch 26/100\n",
            "157/157 [==============================] - 0s 2ms/step - batch: 78.0000 - size: 31.8471 - loss: 1.6099e-04 - f_hat_loss: 2.2940e-05 - add_loss: 1.3805e-04 - lr: 0.0010 - time: 0.4173\n",
            "Epoch 27/100\n",
            "157/157 [==============================] - 0s 2ms/step - batch: 78.0000 - size: 31.8471 - loss: 1.3053e-04 - f_hat_loss: 1.4384e-05 - add_loss: 1.1614e-04 - lr: 0.0010 - time: 0.4325\n",
            "Epoch 28/100\n",
            "157/157 [==============================] - 0s 2ms/step - batch: 78.0000 - size: 31.8471 - loss: 1.0961e-04 - f_hat_loss: 9.7816e-06 - add_loss: 9.9826e-05 - lr: 0.0010 - time: 0.4196\n",
            "Epoch 29/100\n",
            "157/157 [==============================] - 0s 2ms/step - batch: 78.0000 - size: 31.8471 - loss: 9.4175e-05 - f_hat_loss: 7.1078e-06 - add_loss: 8.7068e-05 - lr: 0.0010 - time: 0.4390\n",
            "Epoch 30/100\n",
            "157/157 [==============================] - 0s 2ms/step - batch: 78.0000 - size: 31.8471 - loss: 8.7443e-05 - f_hat_loss: 8.6115e-06 - add_loss: 7.8831e-05 - lr: 0.0010 - time: 0.4325\n",
            "Epoch 31/100\n",
            "157/157 [==============================] - 0s 2ms/step - batch: 78.0000 - size: 31.8471 - loss: 1.1304e-04 - f_hat_loss: 2.8575e-05 - add_loss: 8.4467e-05 - lr: 0.0010 - time: 0.4171\n",
            "Epoch 32/100\n",
            "157/157 [==============================] - 0s 2ms/step - batch: 78.0000 - size: 31.8471 - loss: 6.9966e-05 - f_hat_loss: 6.9842e-06 - add_loss: 6.2981e-05 - lr: 0.0010 - time: 0.4204\n",
            "Epoch 33/100\n",
            "157/157 [==============================] - 0s 2ms/step - batch: 78.0000 - size: 31.8471 - loss: 6.8654e-05 - f_hat_loss: 1.0166e-05 - add_loss: 5.8488e-05 - lr: 0.0010 - time: 0.4197\n",
            "Epoch 34/100\n",
            "157/157 [==============================] - 0s 2ms/step - batch: 78.0000 - size: 31.8471 - loss: 5.7413e-05 - f_hat_loss: 6.2096e-06 - add_loss: 5.1203e-05 - lr: 0.0010 - time: 0.4333\n",
            "Epoch 35/100\n",
            "157/157 [==============================] - 0s 2ms/step - batch: 78.0000 - size: 31.8471 - loss: 5.4942e-05 - f_hat_loss: 6.9601e-06 - add_loss: 4.7983e-05 - lr: 0.0010 - time: 0.4311\n",
            "Epoch 36/100\n",
            "157/157 [==============================] - 0s 2ms/step - batch: 78.0000 - size: 31.8471 - loss: 4.9172e-05 - f_hat_loss: 5.8663e-06 - add_loss: 4.3306e-05 - lr: 0.0010 - time: 0.4468\n",
            "Epoch 37/100\n",
            "157/157 [==============================] - 0s 2ms/step - batch: 78.0000 - size: 31.8471 - loss: 5.8911e-05 - f_hat_loss: 1.2978e-05 - add_loss: 4.5933e-05 - lr: 0.0010 - time: 0.3997\n",
            "Epoch 38/100\n",
            "157/157 [==============================] - 0s 2ms/step - batch: 78.0000 - size: 31.8471 - loss: 5.5368e-05 - f_hat_loss: 1.3361e-05 - add_loss: 4.2007e-05 - lr: 0.0010 - time: 0.4283\n",
            "Epoch 39/100\n",
            "157/157 [==============================] - 0s 2ms/step - batch: 78.0000 - size: 31.8471 - loss: 5.1192e-05 - f_hat_loss: 1.1341e-05 - add_loss: 3.9849e-05 - lr: 0.0010 - time: 0.4199\n",
            "Epoch 40/100\n",
            "157/157 [==============================] - 0s 2ms/step - batch: 78.0000 - size: 31.8471 - loss: 3.9318e-05 - f_hat_loss: 6.8089e-06 - add_loss: 3.2509e-05 - lr: 0.0010 - time: 0.4268\n",
            "Epoch 41/100\n",
            "157/157 [==============================] - 0s 2ms/step - batch: 78.0000 - size: 31.8471 - loss: 3.6064e-05 - f_hat_loss: 6.9499e-06 - add_loss: 2.9115e-05 - lr: 0.0010 - time: 0.4455\n",
            "Epoch 42/100\n",
            "157/157 [==============================] - 0s 2ms/step - batch: 78.0000 - size: 31.8471 - loss: 3.5674e-05 - f_hat_loss: 5.9380e-06 - add_loss: 2.9736e-05 - lr: 0.0010 - time: 0.4088\n",
            "Epoch 43/100\n",
            "157/157 [==============================] - 0s 2ms/step - batch: 78.0000 - size: 31.8471 - loss: 2.9607e-05 - f_hat_loss: 4.2662e-06 - add_loss: 2.5342e-05 - lr: 0.0010 - time: 0.4201\n",
            "Epoch 44/100\n",
            "157/157 [==============================] - 0s 2ms/step - batch: 78.0000 - size: 31.8471 - loss: 3.4709e-05 - f_hat_loss: 8.8334e-06 - add_loss: 2.5876e-05 - lr: 0.0010 - time: 0.4542\n",
            "Epoch 45/100\n",
            "157/157 [==============================] - 0s 2ms/step - batch: 78.0000 - size: 31.8471 - loss: 3.5765e-05 - f_hat_loss: 8.6431e-06 - add_loss: 2.7122e-05 - lr: 0.0010 - time: 0.4094\n",
            "Epoch 46/100\n",
            "157/157 [==============================] - 0s 2ms/step - batch: 78.0000 - size: 31.8471 - loss: 3.4855e-05 - f_hat_loss: 8.3403e-06 - add_loss: 2.6514e-05 - lr: 0.0010 - time: 0.4608\n",
            "Epoch 47/100\n",
            "157/157 [==============================] - 0s 2ms/step - batch: 78.0000 - size: 31.8471 - loss: 4.6176e-05 - f_hat_loss: 1.7571e-05 - add_loss: 2.8604e-05 - lr: 0.0010 - time: 0.4195\n",
            "Epoch 48/100\n",
            "157/157 [==============================] - 0s 2ms/step - batch: 78.0000 - size: 31.8471 - loss: 2.7531e-05 - f_hat_loss: 6.1186e-06 - add_loss: 2.1412e-05 - lr: 0.0010 - time: 0.4253\n",
            "Epoch 49/100\n",
            "157/157 [==============================] - 0s 2ms/step - batch: 78.0000 - size: 31.8471 - loss: 2.5214e-05 - f_hat_loss: 5.7314e-06 - add_loss: 1.9483e-05 - lr: 0.0010 - time: 0.4214\n",
            "Epoch 50/100\n",
            "157/157 [==============================] - 0s 2ms/step - batch: 78.0000 - size: 31.8471 - loss: 2.6129e-05 - f_hat_loss: 7.2803e-06 - add_loss: 1.8849e-05 - lr: 0.0010 - time: 0.4410\n",
            "Epoch 51/100\n",
            "157/157 [==============================] - 0s 2ms/step - batch: 78.0000 - size: 31.8471 - loss: 2.0463e-05 - f_hat_loss: 4.2985e-06 - add_loss: 1.6164e-05 - lr: 0.0010 - time: 0.4008\n",
            "Epoch 52/100\n",
            "157/157 [==============================] - 0s 2ms/step - batch: 78.0000 - size: 31.8471 - loss: 2.9054e-05 - f_hat_loss: 8.5602e-06 - add_loss: 2.0494e-05 - lr: 0.0010 - time: 0.4199\n",
            "Epoch 53/100\n",
            "157/157 [==============================] - 0s 2ms/step - batch: 78.0000 - size: 31.8471 - loss: 2.1941e-05 - f_hat_loss: 5.8059e-06 - add_loss: 1.6134e-05 - lr: 0.0010 - time: 0.4403\n",
            "Epoch 54/100\n",
            "157/157 [==============================] - 0s 2ms/step - batch: 78.0000 - size: 31.8471 - loss: 2.0094e-05 - f_hat_loss: 5.6837e-06 - add_loss: 1.4410e-05 - lr: 0.0010 - time: 0.4179\n",
            "Epoch 55/100\n",
            "157/157 [==============================] - 0s 2ms/step - batch: 78.0000 - size: 31.8471 - loss: 7.5848e-05 - f_hat_loss: 3.6286e-05 - add_loss: 3.9565e-05 - lr: 0.0010 - time: 0.4211\n",
            "Epoch 56/100\n",
            "157/157 [==============================] - 0s 2ms/step - batch: 78.0000 - size: 31.8471 - loss: 1.5701e-05 - f_hat_loss: 3.2152e-06 - add_loss: 1.2485e-05 - lr: 0.0010 - time: 0.4351\n",
            "Epoch 57/100\n",
            "157/157 [==============================] - 0s 2ms/step - batch: 78.0000 - size: 31.8471 - loss: 1.5357e-05 - f_hat_loss: 3.3485e-06 - add_loss: 1.2009e-05 - lr: 0.0010 - time: 0.4244\n",
            "Epoch 58/100\n",
            "157/157 [==============================] - 0s 2ms/step - batch: 78.0000 - size: 31.8471 - loss: 7.6472e-05 - f_hat_loss: 3.9508e-05 - add_loss: 3.6962e-05 - lr: 0.0010 - time: 0.4367\n",
            "Epoch 59/100\n",
            "157/157 [==============================] - 0s 2ms/step - batch: 78.0000 - size: 31.8471 - loss: 2.2117e-05 - f_hat_loss: 7.7007e-06 - add_loss: 1.4416e-05 - lr: 0.0010 - time: 0.4573\n",
            "Epoch 60/100\n",
            "157/157 [==============================] - 0s 2ms/step - batch: 78.0000 - size: 31.8471 - loss: 1.7703e-05 - f_hat_loss: 5.2307e-06 - add_loss: 1.2472e-05 - lr: 0.0010 - time: 0.4564\n",
            "Epoch 61/100\n",
            "157/157 [==============================] - 0s 2ms/step - batch: 78.0000 - size: 31.8471 - loss: 1.4540e-05 - f_hat_loss: 3.5916e-06 - add_loss: 1.0948e-05 - lr: 0.0010 - time: 0.4365\n",
            "Epoch 62/100\n",
            "157/157 [==============================] - 0s 2ms/step - batch: 78.0000 - size: 31.8471 - loss: 1.9426e-05 - f_hat_loss: 6.5181e-06 - add_loss: 1.2907e-05 - lr: 0.0010 - time: 0.4159\n",
            "Epoch 63/100\n",
            "157/157 [==============================] - 0s 2ms/step - batch: 78.0000 - size: 31.8471 - loss: 1.3991e-05 - f_hat_loss: 3.7612e-06 - add_loss: 1.0230e-05 - lr: 0.0010 - time: 0.4233\n",
            "Epoch 64/100\n",
            "157/157 [==============================] - 0s 2ms/step - batch: 78.0000 - size: 31.8471 - loss: 2.0886e-05 - f_hat_loss: 7.5581e-06 - add_loss: 1.3328e-05 - lr: 0.0010 - time: 0.4182\n",
            "Epoch 65/100\n",
            "157/157 [==============================] - 0s 2ms/step - batch: 78.0000 - size: 31.8471 - loss: 1.2391e-05 - f_hat_loss: 3.0425e-06 - add_loss: 9.3487e-06 - lr: 0.0010 - time: 0.4142\n",
            "Epoch 66/100\n",
            "157/157 [==============================] - 0s 2ms/step - batch: 78.0000 - size: 31.8471 - loss: 2.1078e-05 - f_hat_loss: 8.4640e-06 - add_loss: 1.2614e-05 - lr: 0.0010 - time: 0.4433\n",
            "Epoch 67/100\n",
            "157/157 [==============================] - 0s 2ms/step - batch: 78.0000 - size: 31.8471 - loss: 2.1704e-05 - f_hat_loss: 8.1237e-06 - add_loss: 1.3580e-05 - lr: 0.0010 - time: 0.4457\n",
            "Epoch 68/100\n",
            "157/157 [==============================] - 0s 2ms/step - batch: 78.0000 - size: 31.8471 - loss: 2.3934e-05 - f_hat_loss: 9.6131e-06 - add_loss: 1.4322e-05 - lr: 0.0010 - time: 0.4232\n",
            "Epoch 69/100\n",
            "157/157 [==============================] - 0s 2ms/step - batch: 78.0000 - size: 31.8471 - loss: 2.2495e-05 - f_hat_loss: 8.8845e-06 - add_loss: 1.3610e-05 - lr: 0.0010 - time: 0.4377\n",
            "Epoch 70/100\n",
            "157/157 [==============================] - 0s 2ms/step - batch: 78.0000 - size: 31.8471 - loss: 1.6241e-05 - f_hat_loss: 6.0223e-06 - add_loss: 1.0219e-05 - lr: 0.0010 - time: 0.4278\n",
            "Epoch 71/100\n",
            "157/157 [==============================] - 0s 2ms/step - batch: 78.0000 - size: 31.8471 - loss: 1.9151e-05 - f_hat_loss: 7.3435e-06 - add_loss: 1.1807e-05 - lr: 0.0010 - time: 0.4080\n",
            "Epoch 72/100\n",
            "157/157 [==============================] - 0s 2ms/step - batch: 78.0000 - size: 31.8471 - loss: 1.4860e-05 - f_hat_loss: 5.1352e-06 - add_loss: 9.7242e-06 - lr: 0.0010 - time: 0.4117\n",
            "Epoch 73/100\n",
            "157/157 [==============================] - 0s 2ms/step - batch: 78.0000 - size: 31.8471 - loss: 1.7945e-05 - f_hat_loss: 6.6266e-06 - add_loss: 1.1318e-05 - lr: 0.0010 - time: 0.4096\n",
            "Epoch 74/100\n",
            "157/157 [==============================] - 0s 2ms/step - batch: 78.0000 - size: 31.8471 - loss: 1.9245e-05 - f_hat_loss: 7.8259e-06 - add_loss: 1.1419e-05 - lr: 0.0010 - time: 0.4253\n",
            "Epoch 75/100\n",
            "156/157 [============================>.] - ETA: 0s - batch: 77.5000 - size: 31.8462 - loss: 3.2964e-05 - f_hat_loss: 1.5723e-05 - add_loss: 1.7241e-05\n",
            "Epoch 00075: ReduceLROnPlateau reducing learning rate to 0.0005000000237487257.\n",
            "157/157 [==============================] - 0s 2ms/step - batch: 78.0000 - size: 31.8471 - loss: 3.2895e-05 - f_hat_loss: 1.5639e-05 - add_loss: 1.7255e-05 - lr: 0.0010 - time: 0.4523\n",
            "Epoch 76/100\n",
            "157/157 [==============================] - 0s 2ms/step - batch: 78.0000 - size: 31.8471 - loss: 7.0807e-06 - f_hat_loss: 1.3109e-06 - add_loss: 5.7703e-06 - lr: 5.0000e-04 - time: 0.4232\n",
            "Epoch 77/100\n",
            "157/157 [==============================] - 0s 2ms/step - batch: 78.0000 - size: 31.8471 - loss: 6.8373e-06 - f_hat_loss: 1.1291e-06 - add_loss: 5.7082e-06 - lr: 5.0000e-04 - time: 0.4197\n",
            "Epoch 78/100\n",
            "157/157 [==============================] - 0s 2ms/step - batch: 78.0000 - size: 31.8471 - loss: 6.6645e-06 - f_hat_loss: 1.0768e-06 - add_loss: 5.5877e-06 - lr: 5.0000e-04 - time: 0.4148\n",
            "Epoch 79/100\n",
            "157/157 [==============================] - 0s 2ms/step - batch: 78.0000 - size: 31.8471 - loss: 5.8576e-06 - f_hat_loss: 7.4804e-07 - add_loss: 5.1095e-06 - lr: 5.0000e-04 - time: 0.4243\n",
            "Epoch 80/100\n",
            "157/157 [==============================] - 0s 2ms/step - batch: 78.0000 - size: 31.8471 - loss: 7.6043e-06 - f_hat_loss: 1.6200e-06 - add_loss: 5.9847e-06 - lr: 5.0000e-04 - time: 0.4233\n",
            "Epoch 81/100\n",
            "157/157 [==============================] - 0s 2ms/step - batch: 78.0000 - size: 31.8471 - loss: 6.4313e-06 - f_hat_loss: 1.0357e-06 - add_loss: 5.3956e-06 - lr: 5.0000e-04 - time: 0.4416\n",
            "Epoch 82/100\n",
            "157/157 [==============================] - 0s 2ms/step - batch: 78.0000 - size: 31.8471 - loss: 7.3524e-06 - f_hat_loss: 1.7214e-06 - add_loss: 5.6308e-06 - lr: 5.0000e-04 - time: 0.4500\n",
            "Epoch 83/100\n",
            "157/157 [==============================] - 0s 2ms/step - batch: 78.0000 - size: 31.8471 - loss: 9.3043e-06 - f_hat_loss: 2.8213e-06 - add_loss: 6.4829e-06 - lr: 5.0000e-04 - time: 0.4488\n",
            "Epoch 84/100\n",
            "157/157 [==============================] - 0s 2ms/step - batch: 78.0000 - size: 31.8471 - loss: 6.1683e-06 - f_hat_loss: 1.1724e-06 - add_loss: 4.9958e-06 - lr: 5.0000e-04 - time: 0.3987\n",
            "Epoch 85/100\n",
            "157/157 [==============================] - 0s 2ms/step - batch: 78.0000 - size: 31.8471 - loss: 6.8905e-06 - f_hat_loss: 1.4699e-06 - add_loss: 5.4207e-06 - lr: 5.0000e-04 - time: 0.4108\n",
            "Epoch 86/100\n",
            "157/157 [==============================] - 0s 2ms/step - batch: 78.0000 - size: 31.8471 - loss: 6.2784e-06 - f_hat_loss: 1.2441e-06 - add_loss: 5.0342e-06 - lr: 5.0000e-04 - time: 0.4028\n",
            "Epoch 87/100\n",
            "157/157 [==============================] - 0s 2ms/step - batch: 78.0000 - size: 31.8471 - loss: 8.1813e-06 - f_hat_loss: 2.3766e-06 - add_loss: 5.8046e-06 - lr: 5.0000e-04 - time: 0.4516\n",
            "Epoch 88/100\n",
            "157/157 [==============================] - 0s 2ms/step - batch: 78.0000 - size: 31.8471 - loss: 7.5848e-06 - f_hat_loss: 2.0598e-06 - add_loss: 5.5249e-06 - lr: 5.0000e-04 - time: 0.4268\n",
            "Epoch 89/100\n",
            "140/157 [=========================>....] - ETA: 0s - batch: 69.5000 - size: 31.8286 - loss: 1.2655e-05 - f_hat_loss: 5.0387e-06 - add_loss: 7.6164e-06\n",
            "Epoch 00089: ReduceLROnPlateau reducing learning rate to 0.0002500000118743628.\n",
            "157/157 [==============================] - 0s 2ms/step - batch: 78.0000 - size: 31.8471 - loss: 1.3184e-05 - f_hat_loss: 5.3900e-06 - add_loss: 7.7937e-06 - lr: 5.0000e-04 - time: 0.4267\n",
            "Epoch 90/100\n",
            "157/157 [==============================] - 0s 2ms/step - batch: 78.0000 - size: 31.8471 - loss: 4.6097e-06 - f_hat_loss: 5.6821e-07 - add_loss: 4.0416e-06 - lr: 2.5000e-04 - time: 0.4189\n",
            "Epoch 91/100\n",
            "157/157 [==============================] - 0s 2ms/step - batch: 78.0000 - size: 31.8471 - loss: 5.0050e-06 - f_hat_loss: 6.9916e-07 - add_loss: 4.3058e-06 - lr: 2.5000e-04 - time: 0.4240\n",
            "Epoch 92/100\n",
            "157/157 [==============================] - 0s 2ms/step - batch: 78.0000 - size: 31.8471 - loss: 4.5967e-06 - f_hat_loss: 5.8340e-07 - add_loss: 4.0133e-06 - lr: 2.5000e-04 - time: 0.4232\n",
            "Epoch 93/100\n",
            "157/157 [==============================] - 0s 2ms/step - batch: 78.0000 - size: 31.8471 - loss: 4.8948e-06 - f_hat_loss: 7.7483e-07 - add_loss: 4.1199e-06 - lr: 2.5000e-04 - time: 0.4426\n",
            "Epoch 94/100\n",
            "157/157 [==============================] - 0s 2ms/step - batch: 78.0000 - size: 31.8471 - loss: 4.8855e-06 - f_hat_loss: 7.1674e-07 - add_loss: 4.1688e-06 - lr: 2.5000e-04 - time: 0.4590\n",
            "Epoch 95/100\n",
            "157/157 [==============================] - 0s 2ms/step - batch: 78.0000 - size: 31.8471 - loss: 4.4553e-06 - f_hat_loss: 5.1091e-07 - add_loss: 3.9444e-06 - lr: 2.5000e-04 - time: 0.4420\n",
            "Epoch 96/100\n",
            "157/157 [==============================] - 0s 2ms/step - batch: 78.0000 - size: 31.8471 - loss: 5.5228e-06 - f_hat_loss: 1.0434e-06 - add_loss: 4.4794e-06 - lr: 2.5000e-04 - time: 0.4095\n",
            "Epoch 97/100\n",
            "157/157 [==============================] - 0s 2ms/step - batch: 78.0000 - size: 31.8471 - loss: 4.3585e-06 - f_hat_loss: 5.4404e-07 - add_loss: 3.8144e-06 - lr: 2.5000e-04 - time: 0.4422\n",
            "Epoch 98/100\n",
            "157/157 [==============================] - 0s 2ms/step - batch: 78.0000 - size: 31.8471 - loss: 4.5327e-06 - f_hat_loss: 5.7721e-07 - add_loss: 3.9555e-06 - lr: 2.5000e-04 - time: 0.4548\n",
            "Epoch 99/100\n",
            "157/157 [==============================] - 0s 2ms/step - batch: 78.0000 - size: 31.8471 - loss: 4.8530e-06 - f_hat_loss: 8.9533e-07 - add_loss: 3.9578e-06 - lr: 2.5000e-04 - time: 0.4099\n",
            "Epoch 100/100\n",
            "157/157 [==============================] - 0s 2ms/step - batch: 78.0000 - size: 31.8471 - loss: 5.2671e-06 - f_hat_loss: 1.1259e-06 - add_loss: 4.1412e-06 - lr: 2.5000e-04 - time: 0.4370\n"
          ],
          "name": "stdout"
        }
      ]
    },
    {
      "cell_type": "markdown",
      "metadata": {
        "id": "wUI0kw84ImoG"
      },
      "source": [
        "We have trained our SciModel with Data and PDE constraints. In this section, we plot Loss vs. Epoch values to make some observations about the training procedure.\n",
        "\n",
        "Please note that, all of the Keras functionalities are inherited. We can replace or customize our loss functions and optimizers by using Keras backend."
      ]
    },
    {
      "cell_type": "code",
      "metadata": {
        "colab": {
          "base_uri": "https://localhost:8080/",
          "height": 295
        },
        "id": "Vf57bBqCCIK6",
        "outputId": "2810d7a9-8eff-45ff-ff7d-feb627f360e0"
      },
      "source": [
        "plt.plot(training_history.history['loss'])\n",
        "plt.plot(training_history.history['f_hat_loss'])\n",
        "plt.title('Epoch vs. Loss')\n",
        "plt.ylabel('Loss')\n",
        "plt.xlabel('Epoch')\n",
        "plt.legend(['Data Constraint Loss', 'PDE Constraint Loss'], loc='upper left')\n",
        "plt.show()"
      ],
      "execution_count": null,
      "outputs": [
        {
          "output_type": "display_data",
          "data": {
            "image/png": "[encoded data removed]",
            "text/plain": [
              "<Figure size 432x288 with 1 Axes>"
            ]
          },
          "metadata": {
            "tags": [],
            "needs_background": "light"
          }
        }
      ]
    },
    {
      "cell_type": "code",
      "metadata": {
        "colab": {
          "base_uri": "https://localhost:8080/",
          "height": 304
        },
        "id": "Yvk0ovAa-2E-",
        "outputId": "f9cf4bc2-eb42-44f0-e416-62da6b7bd927"
      },
      "source": [
        "y_pred = f_hat.eval(model, x_train)\n",
        "\n",
        "# plot the data\n",
        "plt.title('Predicted Data')\n",
        "plt.xlabel('$x$')\n",
        "plt.ylabel('$y$')\n",
        "xx = [idx*np.pi/4 for idx in range(9)]\n",
        "xx_t = ['$0$', '$\\\\frac{\\\\pi}{4}$', '$\\\\frac{\\\\pi}{2}$', '$\\\\frac{3\\\\pi}{4}$', '$\\\\pi$', \n",
        "        '$\\\\frac{5\\\\pi}{4}$', '$\\\\frac{3\\\\pi}{2}$', '$\\\\frac{7\\\\pi}{4}$', '$2\\\\pi$']\n",
        "plt.xticks(xx, xx_t)\n",
        "plt.plot(x_train, y_pred, label='$y=\\hat{f}(x)$')\n",
        "plt.legend(loc=\"upper left\")\n",
        "\n",
        "plt.show()"
      ],
      "execution_count": null,
      "outputs": [
        {
          "output_type": "display_data",
          "data": {
            "image/png": "[encoded data removed]",
            "text/plain": [
              "<Figure size 432x288 with 1 Axes>"
            ]
          },
          "metadata": {
            "tags": [],
            "needs_background": "light"
          }
        }
      ]
    }
  ]
}